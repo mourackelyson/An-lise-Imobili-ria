{
  "nbformat": 4,
  "nbformat_minor": 0,
  "metadata": {
    "colab": {
      "provenance": [],
      "include_colab_link": true
    },
    "kernelspec": {
      "name": "python3",
      "display_name": "Python 3"
    },
    "language_info": {
      "name": "python"
    }
  },
  "cells": [
    {
      "cell_type": "markdown",
      "metadata": {
        "id": "view-in-github",
        "colab_type": "text"
      },
      "source": [
        "<a href=\"https://colab.research.google.com/github/mourackelyson/An-lise-Imobili-ria/blob/main/Data_Visualization_gr%C3%A1ficos_de_composi%C3%A7%C3%A3o_e_relacionamento_(gr%C3%A1ficos_produzidos).ipynb\" target=\"_parent\"><img src=\"https://colab.research.google.com/assets/colab-badge.svg\" alt=\"Open In Colab\"/></a>"
      ]
    },
    {
      "cell_type": "markdown",
      "source": [
        "# **Gráficos de Composição**\n",
        "\n",
        "\n"
      ],
      "metadata": {
        "id": "UHgmGgEbNbBl"
      }
    },
    {
      "cell_type": "markdown",
      "source": [
        "### **Questionamentos**\n",
        "\n",
        "1.   Como está disposto o PIB nos estados brasileiros no ano de 2020? É possível notar os estados com maior e menor participação no PIB nacional?\n",
        "\n",
        "2. Houve uma significativa mudança na distribuição do PIB por região comparando os valores de 2002 e 2020?\n",
        "\n",
        "3. Qual a participação do estado de Minas Gerais no PIB de todo o Brasil no ano de 2020?\n",
        "\n",
        "4. Como está distribuído o PIB do estado da Bahia em 2020 separado por impostos líquidos e os valores adicionados brutos dos bens e serviços produzidos?\n",
        "\n",
        "5. Qual a evolução anual do PIB do estado do Rio de Janeiro entre os anos de 2010 a 2020?\n",
        "\n",
        "6. Como está distribuído o PIB nos 3 últimos quinquênios (lustro) dos dados (2010, 2015, 2020) na Região Sul do Brasil divididos pelos estados (Paraná, Santa Catarina e Rio Grande do Sul)?\n",
        "\n",
        "7. Como estão distribuídos, em porcentagem, os valores adicionados de bens e serviços descritos na base de dados em relação a cada região no ano de 2020?\n",
        "\n",
        "8. Na agropecuária, como estão distribuídos seus valores adicionados por região dentro do período da base dos dados (2002 - 2020)?"
      ],
      "metadata": {
        "id": "7prfAPP1F8uh"
      }
    },
    {
      "cell_type": "markdown",
      "source": [
        "## **Gráfico de pizza**"
      ],
      "metadata": {
        "id": "QG9-klVCNkXk"
      }
    },
    {
      "cell_type": "markdown",
      "source": [
        "![Gráfico de colunas](https://github.com/afonsosr2/dataviz-graficos-composicao-relacionamento/blob/4d6ed288ce12c59ad4dde53b7b5156ba675e775b/imagens/Tipos_Graficos/graficos/pizza_regioes_2002_2020.png?raw=true)"
      ],
      "metadata": {
        "id": "bRV2wx5KSBcE"
      }
    },
    {
      "cell_type": "markdown",
      "source": [
        "## **Gráfico rosca**"
      ],
      "metadata": {
        "id": "j-EyEJ2pNkUu"
      }
    },
    {
      "cell_type": "markdown",
      "source": [
        "![](https://github.com/afonsosr2/dataviz-graficos-composicao-relacionamento/blob/4d6ed288ce12c59ad4dde53b7b5156ba675e775b/imagens/Tipos_Graficos/graficos/rosca.png?raw=true)"
      ],
      "metadata": {
        "id": "bUfFR9vaNkR8"
      }
    },
    {
      "cell_type": "markdown",
      "source": [
        "## **Gráfico de cascata**"
      ],
      "metadata": {
        "id": "QqsH4dcFNkPf"
      }
    },
    {
      "cell_type": "markdown",
      "source": [
        "![](https://github.com/afonsosr2/dataviz-graficos-composicao-relacionamento/blob/4d6ed288ce12c59ad4dde53b7b5156ba675e775b/imagens/Tipos_Graficos/graficos/grafico_cascata_decrescimos_acrescimos.png?raw=true)"
      ],
      "metadata": {
        "id": "AsG-xJ0KUbdE"
      }
    },
    {
      "cell_type": "markdown",
      "source": [
        "## **Gráfico de colunas agrupadas x empilhadas**"
      ],
      "metadata": {
        "id": "Yv-kHhJnNkMc"
      }
    },
    {
      "cell_type": "markdown",
      "source": [
        "![](https://github.com/afonsosr2/dataviz-graficos-composicao-relacionamento/blob/4d6ed288ce12c59ad4dde53b7b5156ba675e775b/imagens/Tipos_Graficos/graficos/grafico_colunas_agrupadas_empilhadas.png?raw=true)"
      ],
      "metadata": {
        "id": "J3aETDpuUcMU"
      }
    },
    {
      "cell_type": "markdown",
      "source": [
        "## **Gráfico de áreas**"
      ],
      "metadata": {
        "id": "1t6QivMmNkJs"
      }
    },
    {
      "cell_type": "markdown",
      "source": [
        "![](https://github.com/afonsosr2/dataviz-graficos-composicao-relacionamento/blob/4d6ed288ce12c59ad4dde53b7b5156ba675e775b/imagens/Tipos_Graficos/graficos/grafico_area.png?raw=true)"
      ],
      "metadata": {
        "id": "AObFqzNqUcpM"
      }
    },
    {
      "cell_type": "markdown",
      "source": [
        "## **Gráfico de inclinação**"
      ],
      "metadata": {
        "id": "6zyarJVcNkG9"
      }
    },
    {
      "cell_type": "markdown",
      "source": [
        "![](https://github.com/afonsosr2/dataviz-graficos-composicao-relacionamento/blob/4d6ed288ce12c59ad4dde53b7b5156ba675e775b/imagens/Tipos_Graficos/graficos/grafico_inclinacao.png?raw=true)"
      ],
      "metadata": {
        "id": "qnZF8pHkUdOc"
      }
    },
    {
      "cell_type": "markdown",
      "source": [
        "# **Gráficos de Relacionamento**"
      ],
      "metadata": {
        "id": "C7nMKiZLKX3A"
      }
    },
    {
      "cell_type": "markdown",
      "source": [
        "## **Gráficos de dispersão**"
      ],
      "metadata": {
        "id": "9ts_XKkZUImZ"
      }
    },
    {
      "cell_type": "markdown",
      "source": [
        "### **Gráfico de dispersão com linha de tendência**"
      ],
      "metadata": {
        "id": "nkKLOQ_qV8xN"
      }
    },
    {
      "cell_type": "markdown",
      "source": [
        "![](https://github.com/afonsosr2/dataviz-graficos-composicao-relacionamento/blob/main/imagens/Tipos_Graficos/graficos/grafico_dispersao.png?raw=true)"
      ],
      "metadata": {
        "id": "4bXdZHSTUeJt"
      }
    },
    {
      "cell_type": "markdown",
      "source": [
        "### **Gráfico de dispersão com cores**"
      ],
      "metadata": {
        "id": "uPEGU38-V_oV"
      }
    },
    {
      "cell_type": "markdown",
      "source": [
        "![](https://github.com/afonsosr2/dataviz-graficos-composicao-relacionamento/blob/main/imagens/Tipos_Graficos/graficos/grafico_dispersao_cores.png?raw=true)"
      ],
      "metadata": {
        "id": "XIoNKspSUd1G"
      }
    },
    {
      "cell_type": "markdown",
      "source": [
        "## **Gráfico de bolhas**"
      ],
      "metadata": {
        "id": "PylTP8w0UIeh"
      }
    },
    {
      "cell_type": "markdown",
      "source": [
        "![](https://github.com/afonsosr2/dataviz-graficos-composicao-relacionamento/blob/main/imagens/Tipos_Graficos/graficos/grafico_bolhas.png?raw=true)"
      ],
      "metadata": {
        "id": "pgSsEymLUfiV"
      }
    }
  ]
}